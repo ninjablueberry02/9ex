{
  "nbformat": 4,
  "nbformat_minor": 0,
  "metadata": {
    "colab": {
      "name": "Задание.ipynb",
      "provenance": []
    },
    "kernelspec": {
      "name": "python3",
      "display_name": "Python 3"
    },
    "language_info": {
      "name": "python"
    }
  },
  "cells": [
    {
      "cell_type": "markdown",
      "source": [
        "# **Перед вами набор данных с описаниями химических свойств стекла**\n",
        "Взять его можно вот тут: https://gist.github.com/hydrophis-spiralis/8899e6a3b49deeb2440c42adeb1fc18e\n",
        "\n",
        "Столбцы кроме последнего - нюансы химического состава. Последний столбец Type - тип стекла."
      ],
      "metadata": {
        "id": "0lxIDWE3imbW"
      }
    },
    {
      "cell_type": "code",
      "source": [
        "import pandas as pd\n",
        "import numpy as np"
      ],
      "metadata": {
        "id": "lMHtxnL0jl89"
      },
      "execution_count": null,
      "outputs": []
    },
    {
      "cell_type": "code",
      "source": [
        "df = pd.read_csv('glass.csv')"
      ],
      "metadata": {
        "id": "Ior6JpJuisB2"
      },
      "execution_count": null,
      "outputs": []
    },
    {
      "cell_type": "code",
      "source": [
        "df.head()"
      ],
      "metadata": {
        "colab": {
          "base_uri": "https://localhost:8080/",
          "height": 206
        },
        "id": "HFYCIVKDjv3u",
        "outputId": "f8013397-499d-4fbb-b463-c7e03d14a8c8"
      },
      "execution_count": null,
      "outputs": [
        {
          "output_type": "execute_result",
          "data": {
            "text/html": [
              "\n",
              "  <div id=\"df-62a39807-3331-447f-90c1-aae303f6ff7d\">\n",
              "    <div class=\"colab-df-container\">\n",
              "      <div>\n",
              "<style scoped>\n",
              "    .dataframe tbody tr th:only-of-type {\n",
              "        vertical-align: middle;\n",
              "    }\n",
              "\n",
              "    .dataframe tbody tr th {\n",
              "        vertical-align: top;\n",
              "    }\n",
              "\n",
              "    .dataframe thead th {\n",
              "        text-align: right;\n",
              "    }\n",
              "</style>\n",
              "<table border=\"1\" class=\"dataframe\">\n",
              "  <thead>\n",
              "    <tr style=\"text-align: right;\">\n",
              "      <th></th>\n",
              "      <th>RI</th>\n",
              "      <th>Na</th>\n",
              "      <th>Mg</th>\n",
              "      <th>Al</th>\n",
              "      <th>Si</th>\n",
              "      <th>K</th>\n",
              "      <th>Ca</th>\n",
              "      <th>Ba</th>\n",
              "      <th>Fe</th>\n",
              "      <th>Type</th>\n",
              "    </tr>\n",
              "  </thead>\n",
              "  <tbody>\n",
              "    <tr>\n",
              "      <th>0</th>\n",
              "      <td>1.52101</td>\n",
              "      <td>13.64</td>\n",
              "      <td>4.49</td>\n",
              "      <td>1.10</td>\n",
              "      <td>71.78</td>\n",
              "      <td>0.06</td>\n",
              "      <td>8.75</td>\n",
              "      <td>0.0</td>\n",
              "      <td>0.0</td>\n",
              "      <td>buildingwindowsfloatprocessed</td>\n",
              "    </tr>\n",
              "    <tr>\n",
              "      <th>1</th>\n",
              "      <td>1.51761</td>\n",
              "      <td>13.89</td>\n",
              "      <td>3.60</td>\n",
              "      <td>1.36</td>\n",
              "      <td>72.73</td>\n",
              "      <td>0.48</td>\n",
              "      <td>7.83</td>\n",
              "      <td>0.0</td>\n",
              "      <td>0.0</td>\n",
              "      <td>buildingwindowsfloatprocessed</td>\n",
              "    </tr>\n",
              "    <tr>\n",
              "      <th>2</th>\n",
              "      <td>1.51618</td>\n",
              "      <td>13.53</td>\n",
              "      <td>3.55</td>\n",
              "      <td>1.54</td>\n",
              "      <td>72.99</td>\n",
              "      <td>0.39</td>\n",
              "      <td>7.78</td>\n",
              "      <td>0.0</td>\n",
              "      <td>0.0</td>\n",
              "      <td>buildingwindowsfloatprocessed</td>\n",
              "    </tr>\n",
              "    <tr>\n",
              "      <th>3</th>\n",
              "      <td>1.51766</td>\n",
              "      <td>13.21</td>\n",
              "      <td>3.69</td>\n",
              "      <td>1.29</td>\n",
              "      <td>72.61</td>\n",
              "      <td>0.57</td>\n",
              "      <td>8.22</td>\n",
              "      <td>0.0</td>\n",
              "      <td>0.0</td>\n",
              "      <td>buildingwindowsfloatprocessed</td>\n",
              "    </tr>\n",
              "    <tr>\n",
              "      <th>4</th>\n",
              "      <td>1.51742</td>\n",
              "      <td>13.27</td>\n",
              "      <td>3.62</td>\n",
              "      <td>1.24</td>\n",
              "      <td>73.08</td>\n",
              "      <td>0.55</td>\n",
              "      <td>8.07</td>\n",
              "      <td>0.0</td>\n",
              "      <td>0.0</td>\n",
              "      <td>buildingwindowsfloatprocessed</td>\n",
              "    </tr>\n",
              "  </tbody>\n",
              "</table>\n",
              "</div>\n",
              "      <button class=\"colab-df-convert\" onclick=\"convertToInteractive('df-62a39807-3331-447f-90c1-aae303f6ff7d')\"\n",
              "              title=\"Convert this dataframe to an interactive table.\"\n",
              "              style=\"display:none;\">\n",
              "        \n",
              "  <svg xmlns=\"http://www.w3.org/2000/svg\" height=\"24px\"viewBox=\"0 0 24 24\"\n",
              "       width=\"24px\">\n",
              "    <path d=\"M0 0h24v24H0V0z\" fill=\"none\"/>\n",
              "    <path d=\"M18.56 5.44l.94 2.06.94-2.06 2.06-.94-2.06-.94-.94-2.06-.94 2.06-2.06.94zm-11 1L8.5 8.5l.94-2.06 2.06-.94-2.06-.94L8.5 2.5l-.94 2.06-2.06.94zm10 10l.94 2.06.94-2.06 2.06-.94-2.06-.94-.94-2.06-.94 2.06-2.06.94z\"/><path d=\"M17.41 7.96l-1.37-1.37c-.4-.4-.92-.59-1.43-.59-.52 0-1.04.2-1.43.59L10.3 9.45l-7.72 7.72c-.78.78-.78 2.05 0 2.83L4 21.41c.39.39.9.59 1.41.59.51 0 1.02-.2 1.41-.59l7.78-7.78 2.81-2.81c.8-.78.8-2.07 0-2.86zM5.41 20L4 18.59l7.72-7.72 1.47 1.35L5.41 20z\"/>\n",
              "  </svg>\n",
              "      </button>\n",
              "      \n",
              "  <style>\n",
              "    .colab-df-container {\n",
              "      display:flex;\n",
              "      flex-wrap:wrap;\n",
              "      gap: 12px;\n",
              "    }\n",
              "\n",
              "    .colab-df-convert {\n",
              "      background-color: #E8F0FE;\n",
              "      border: none;\n",
              "      border-radius: 50%;\n",
              "      cursor: pointer;\n",
              "      display: none;\n",
              "      fill: #1967D2;\n",
              "      height: 32px;\n",
              "      padding: 0 0 0 0;\n",
              "      width: 32px;\n",
              "    }\n",
              "\n",
              "    .colab-df-convert:hover {\n",
              "      background-color: #E2EBFA;\n",
              "      box-shadow: 0px 1px 2px rgba(60, 64, 67, 0.3), 0px 1px 3px 1px rgba(60, 64, 67, 0.15);\n",
              "      fill: #174EA6;\n",
              "    }\n",
              "\n",
              "    [theme=dark] .colab-df-convert {\n",
              "      background-color: #3B4455;\n",
              "      fill: #D2E3FC;\n",
              "    }\n",
              "\n",
              "    [theme=dark] .colab-df-convert:hover {\n",
              "      background-color: #434B5C;\n",
              "      box-shadow: 0px 1px 3px 1px rgba(0, 0, 0, 0.15);\n",
              "      filter: drop-shadow(0px 1px 2px rgba(0, 0, 0, 0.3));\n",
              "      fill: #FFFFFF;\n",
              "    }\n",
              "  </style>\n",
              "\n",
              "      <script>\n",
              "        const buttonEl =\n",
              "          document.querySelector('#df-62a39807-3331-447f-90c1-aae303f6ff7d button.colab-df-convert');\n",
              "        buttonEl.style.display =\n",
              "          google.colab.kernel.accessAllowed ? 'block' : 'none';\n",
              "\n",
              "        async function convertToInteractive(key) {\n",
              "          const element = document.querySelector('#df-62a39807-3331-447f-90c1-aae303f6ff7d');\n",
              "          const dataTable =\n",
              "            await google.colab.kernel.invokeFunction('convertToInteractive',\n",
              "                                                     [key], {});\n",
              "          if (!dataTable) return;\n",
              "\n",
              "          const docLinkHtml = 'Like what you see? Visit the ' +\n",
              "            '<a target=\"_blank\" href=https://colab.research.google.com/notebooks/data_table.ipynb>data table notebook</a>'\n",
              "            + ' to learn more about interactive tables.';\n",
              "          element.innerHTML = '';\n",
              "          dataTable['output_type'] = 'display_data';\n",
              "          await google.colab.output.renderOutput(dataTable, element);\n",
              "          const docLink = document.createElement('div');\n",
              "          docLink.innerHTML = docLinkHtml;\n",
              "          element.appendChild(docLink);\n",
              "        }\n",
              "      </script>\n",
              "    </div>\n",
              "  </div>\n",
              "  "
            ],
            "text/plain": [
              "        RI     Na    Mg    Al  ...    Ca   Ba   Fe                           Type\n",
              "0  1.52101  13.64  4.49  1.10  ...  8.75  0.0  0.0  buildingwindowsfloatprocessed\n",
              "1  1.51761  13.89  3.60  1.36  ...  7.83  0.0  0.0  buildingwindowsfloatprocessed\n",
              "2  1.51618  13.53  3.55  1.54  ...  7.78  0.0  0.0  buildingwindowsfloatprocessed\n",
              "3  1.51766  13.21  3.69  1.29  ...  8.22  0.0  0.0  buildingwindowsfloatprocessed\n",
              "4  1.51742  13.27  3.62  1.24  ...  8.07  0.0  0.0  buildingwindowsfloatprocessed\n",
              "\n",
              "[5 rows x 10 columns]"
            ]
          },
          "metadata": {},
          "execution_count": 232
        }
      ]
    },
    {
      "cell_type": "markdown",
      "source": [
        "# **1. Сколько образцов разных видов стекла в таблице?**"
      ],
      "metadata": {
        "id": "ozUvjAakiu2S"
      }
    },
    {
      "cell_type": "code",
      "source": [
        "df.info()"
      ],
      "metadata": {
        "colab": {
          "base_uri": "https://localhost:8080/"
        },
        "id": "rp8lodQ0Si78",
        "outputId": "ee87120c-88b4-47b3-f995-f3580611a94d"
      },
      "execution_count": null,
      "outputs": [
        {
          "output_type": "stream",
          "name": "stdout",
          "text": [
            "<class 'pandas.core.frame.DataFrame'>\n",
            "RangeIndex: 214 entries, 0 to 213\n",
            "Data columns (total 10 columns):\n",
            " #   Column  Non-Null Count  Dtype  \n",
            "---  ------  --------------  -----  \n",
            " 0   RI      214 non-null    float64\n",
            " 1   Na      214 non-null    float64\n",
            " 2   Mg      214 non-null    float64\n",
            " 3   Al      214 non-null    float64\n",
            " 4   Si      214 non-null    float64\n",
            " 5   K       214 non-null    float64\n",
            " 6   Ca      214 non-null    float64\n",
            " 7   Ba      214 non-null    float64\n",
            " 8   Fe      214 non-null    float64\n",
            " 9   Type    214 non-null    object \n",
            "dtypes: float64(9), object(1)\n",
            "memory usage: 16.8+ KB\n"
          ]
        }
      ]
    },
    {
      "cell_type": "code",
      "source": [
        "len(df)"
      ],
      "metadata": {
        "colab": {
          "base_uri": "https://localhost:8080/"
        },
        "id": "YkRWGL_riy-B",
        "outputId": "ff9351c4-b24d-4c33-b030-ef0d3f025814"
      },
      "execution_count": null,
      "outputs": [
        {
          "output_type": "execute_result",
          "data": {
            "text/plain": [
              "214"
            ]
          },
          "metadata": {},
          "execution_count": 234
        }
      ]
    },
    {
      "cell_type": "markdown",
      "source": [
        "# **2. Найдите средние значения химических параметров для каждого типа стекла**"
      ],
      "metadata": {
        "id": "fAhMf3vgizUf"
      }
    },
    {
      "cell_type": "code",
      "source": [
        "df.Type.unique()"
      ],
      "metadata": {
        "colab": {
          "base_uri": "https://localhost:8080/"
        },
        "id": "DTb0DxnLm7kR",
        "outputId": "487e66ee-2f14-4b12-a845-f791fdac56ba"
      },
      "execution_count": null,
      "outputs": [
        {
          "output_type": "execute_result",
          "data": {
            "text/plain": [
              "array(['buildingwindowsfloatprocessed',\n",
              "       'buildingwindowsnonfloatprocessed', 'vehiclewindowsfloatprocessed',\n",
              "       'containers', 'tableware', 'headlamps'], dtype=object)"
            ]
          },
          "metadata": {},
          "execution_count": 235
        }
      ]
    },
    {
      "cell_type": "code",
      "source": [
        "df.groupby('Type')[['Na', 'Mg', 'Al', 'Si', 'K', 'Ca', 'Ba', 'Fe']].mean()\t"
      ],
      "metadata": {
        "colab": {
          "base_uri": "https://localhost:8080/",
          "height": 269
        },
        "id": "qQaFNYsvizq8",
        "outputId": "7e4a17a9-ec65-4094-cf79-26745c35d8c8"
      },
      "execution_count": null,
      "outputs": [
        {
          "output_type": "execute_result",
          "data": {
            "text/html": [
              "\n",
              "  <div id=\"df-7a9b3468-bd33-4f31-aeb8-746712cd1eba\">\n",
              "    <div class=\"colab-df-container\">\n",
              "      <div>\n",
              "<style scoped>\n",
              "    .dataframe tbody tr th:only-of-type {\n",
              "        vertical-align: middle;\n",
              "    }\n",
              "\n",
              "    .dataframe tbody tr th {\n",
              "        vertical-align: top;\n",
              "    }\n",
              "\n",
              "    .dataframe thead th {\n",
              "        text-align: right;\n",
              "    }\n",
              "</style>\n",
              "<table border=\"1\" class=\"dataframe\">\n",
              "  <thead>\n",
              "    <tr style=\"text-align: right;\">\n",
              "      <th></th>\n",
              "      <th>Na</th>\n",
              "      <th>Mg</th>\n",
              "      <th>Al</th>\n",
              "      <th>Si</th>\n",
              "      <th>K</th>\n",
              "      <th>Ca</th>\n",
              "      <th>Ba</th>\n",
              "      <th>Fe</th>\n",
              "    </tr>\n",
              "    <tr>\n",
              "      <th>Type</th>\n",
              "      <th></th>\n",
              "      <th></th>\n",
              "      <th></th>\n",
              "      <th></th>\n",
              "      <th></th>\n",
              "      <th></th>\n",
              "      <th></th>\n",
              "      <th></th>\n",
              "    </tr>\n",
              "  </thead>\n",
              "  <tbody>\n",
              "    <tr>\n",
              "      <th>buildingwindowsfloatprocessed</th>\n",
              "      <td>13.242286</td>\n",
              "      <td>3.552429</td>\n",
              "      <td>1.163857</td>\n",
              "      <td>72.619143</td>\n",
              "      <td>0.447429</td>\n",
              "      <td>8.797286</td>\n",
              "      <td>0.012714</td>\n",
              "      <td>0.057000</td>\n",
              "    </tr>\n",
              "    <tr>\n",
              "      <th>buildingwindowsnonfloatprocessed</th>\n",
              "      <td>13.111711</td>\n",
              "      <td>3.002105</td>\n",
              "      <td>1.408158</td>\n",
              "      <td>72.598026</td>\n",
              "      <td>0.521053</td>\n",
              "      <td>9.073684</td>\n",
              "      <td>0.050263</td>\n",
              "      <td>0.079737</td>\n",
              "    </tr>\n",
              "    <tr>\n",
              "      <th>containers</th>\n",
              "      <td>12.827692</td>\n",
              "      <td>0.773846</td>\n",
              "      <td>2.033846</td>\n",
              "      <td>72.366154</td>\n",
              "      <td>1.470000</td>\n",
              "      <td>10.123846</td>\n",
              "      <td>0.187692</td>\n",
              "      <td>0.060769</td>\n",
              "    </tr>\n",
              "    <tr>\n",
              "      <th>headlamps</th>\n",
              "      <td>14.442069</td>\n",
              "      <td>0.538276</td>\n",
              "      <td>2.122759</td>\n",
              "      <td>72.965862</td>\n",
              "      <td>0.325172</td>\n",
              "      <td>8.491379</td>\n",
              "      <td>1.040000</td>\n",
              "      <td>0.013448</td>\n",
              "    </tr>\n",
              "    <tr>\n",
              "      <th>tableware</th>\n",
              "      <td>14.646667</td>\n",
              "      <td>1.305556</td>\n",
              "      <td>1.366667</td>\n",
              "      <td>73.206667</td>\n",
              "      <td>0.000000</td>\n",
              "      <td>9.356667</td>\n",
              "      <td>0.000000</td>\n",
              "      <td>0.000000</td>\n",
              "    </tr>\n",
              "    <tr>\n",
              "      <th>vehiclewindowsfloatprocessed</th>\n",
              "      <td>13.437059</td>\n",
              "      <td>3.543529</td>\n",
              "      <td>1.201176</td>\n",
              "      <td>72.404706</td>\n",
              "      <td>0.406471</td>\n",
              "      <td>8.782941</td>\n",
              "      <td>0.008824</td>\n",
              "      <td>0.057059</td>\n",
              "    </tr>\n",
              "  </tbody>\n",
              "</table>\n",
              "</div>\n",
              "      <button class=\"colab-df-convert\" onclick=\"convertToInteractive('df-7a9b3468-bd33-4f31-aeb8-746712cd1eba')\"\n",
              "              title=\"Convert this dataframe to an interactive table.\"\n",
              "              style=\"display:none;\">\n",
              "        \n",
              "  <svg xmlns=\"http://www.w3.org/2000/svg\" height=\"24px\"viewBox=\"0 0 24 24\"\n",
              "       width=\"24px\">\n",
              "    <path d=\"M0 0h24v24H0V0z\" fill=\"none\"/>\n",
              "    <path d=\"M18.56 5.44l.94 2.06.94-2.06 2.06-.94-2.06-.94-.94-2.06-.94 2.06-2.06.94zm-11 1L8.5 8.5l.94-2.06 2.06-.94-2.06-.94L8.5 2.5l-.94 2.06-2.06.94zm10 10l.94 2.06.94-2.06 2.06-.94-2.06-.94-.94-2.06-.94 2.06-2.06.94z\"/><path d=\"M17.41 7.96l-1.37-1.37c-.4-.4-.92-.59-1.43-.59-.52 0-1.04.2-1.43.59L10.3 9.45l-7.72 7.72c-.78.78-.78 2.05 0 2.83L4 21.41c.39.39.9.59 1.41.59.51 0 1.02-.2 1.41-.59l7.78-7.78 2.81-2.81c.8-.78.8-2.07 0-2.86zM5.41 20L4 18.59l7.72-7.72 1.47 1.35L5.41 20z\"/>\n",
              "  </svg>\n",
              "      </button>\n",
              "      \n",
              "  <style>\n",
              "    .colab-df-container {\n",
              "      display:flex;\n",
              "      flex-wrap:wrap;\n",
              "      gap: 12px;\n",
              "    }\n",
              "\n",
              "    .colab-df-convert {\n",
              "      background-color: #E8F0FE;\n",
              "      border: none;\n",
              "      border-radius: 50%;\n",
              "      cursor: pointer;\n",
              "      display: none;\n",
              "      fill: #1967D2;\n",
              "      height: 32px;\n",
              "      padding: 0 0 0 0;\n",
              "      width: 32px;\n",
              "    }\n",
              "\n",
              "    .colab-df-convert:hover {\n",
              "      background-color: #E2EBFA;\n",
              "      box-shadow: 0px 1px 2px rgba(60, 64, 67, 0.3), 0px 1px 3px 1px rgba(60, 64, 67, 0.15);\n",
              "      fill: #174EA6;\n",
              "    }\n",
              "\n",
              "    [theme=dark] .colab-df-convert {\n",
              "      background-color: #3B4455;\n",
              "      fill: #D2E3FC;\n",
              "    }\n",
              "\n",
              "    [theme=dark] .colab-df-convert:hover {\n",
              "      background-color: #434B5C;\n",
              "      box-shadow: 0px 1px 3px 1px rgba(0, 0, 0, 0.15);\n",
              "      filter: drop-shadow(0px 1px 2px rgba(0, 0, 0, 0.3));\n",
              "      fill: #FFFFFF;\n",
              "    }\n",
              "  </style>\n",
              "\n",
              "      <script>\n",
              "        const buttonEl =\n",
              "          document.querySelector('#df-7a9b3468-bd33-4f31-aeb8-746712cd1eba button.colab-df-convert');\n",
              "        buttonEl.style.display =\n",
              "          google.colab.kernel.accessAllowed ? 'block' : 'none';\n",
              "\n",
              "        async function convertToInteractive(key) {\n",
              "          const element = document.querySelector('#df-7a9b3468-bd33-4f31-aeb8-746712cd1eba');\n",
              "          const dataTable =\n",
              "            await google.colab.kernel.invokeFunction('convertToInteractive',\n",
              "                                                     [key], {});\n",
              "          if (!dataTable) return;\n",
              "\n",
              "          const docLinkHtml = 'Like what you see? Visit the ' +\n",
              "            '<a target=\"_blank\" href=https://colab.research.google.com/notebooks/data_table.ipynb>data table notebook</a>'\n",
              "            + ' to learn more about interactive tables.';\n",
              "          element.innerHTML = '';\n",
              "          dataTable['output_type'] = 'display_data';\n",
              "          await google.colab.output.renderOutput(dataTable, element);\n",
              "          const docLink = document.createElement('div');\n",
              "          docLink.innerHTML = docLinkHtml;\n",
              "          element.appendChild(docLink);\n",
              "        }\n",
              "      </script>\n",
              "    </div>\n",
              "  </div>\n",
              "  "
            ],
            "text/plain": [
              "                                         Na        Mg  ...        Ba        Fe\n",
              "Type                                                   ...                    \n",
              "buildingwindowsfloatprocessed     13.242286  3.552429  ...  0.012714  0.057000\n",
              "buildingwindowsnonfloatprocessed  13.111711  3.002105  ...  0.050263  0.079737\n",
              "containers                        12.827692  0.773846  ...  0.187692  0.060769\n",
              "headlamps                         14.442069  0.538276  ...  1.040000  0.013448\n",
              "tableware                         14.646667  1.305556  ...  0.000000  0.000000\n",
              "vehiclewindowsfloatprocessed      13.437059  3.543529  ...  0.008824  0.057059\n",
              "\n",
              "[6 rows x 8 columns]"
            ]
          },
          "metadata": {},
          "execution_count": 236
        }
      ]
    },
    {
      "cell_type": "markdown",
      "source": [
        "# **3. Найдите максимальную разницу между содержанием Si разных типов стекла. Постройте квадратную таблицу, в которой столбцы и строки - типы стекла, а в ячейках будут находиться значения абсолютной разницы.¶**"
      ],
      "metadata": {
        "id": "whdUVvjyiz19"
      }
    },
    {
      "cell_type": "code",
      "source": [
        "bwfp1 = 0\n",
        "bwnfp1 = 0\n",
        "cont1 = 0\n",
        "hl1 = 0\n",
        "tw1 = 0\n",
        "vwfp1 = 0"
      ],
      "metadata": {
        "id": "cnNomSRI5lcC"
      },
      "execution_count": null,
      "outputs": []
    },
    {
      "cell_type": "code",
      "source": [
        "for i in range(0, len(df)):\n",
        "  if df.Type[i] == 'buildingwindowsfloatprocessed':\n",
        "    bwfp1 += df['Si'][i]\n",
        "  if df.Type[i] == 'buildingwindowsnonfloatprocessed':\n",
        "    bwnfp1 += df['Si'][i]\n",
        "  if df.Type[i] == 'containers':\n",
        "    cont1 += df['Si'][i]\n",
        "  if df.Type[i] == 'headlamps':\n",
        "    hl1 += df['Si'][i]\n",
        "  if df.Type[i] == 'tableware':\n",
        "    tw1 += df['Si'][i]\n",
        "  if df.Type[i] == 'vehiclewindowsfloatprocessed':\n",
        "    vwfp1 += df['Si'][i]\n"
      ],
      "metadata": {
        "id": "RUgAco0DDd3I"
      },
      "execution_count": null,
      "outputs": []
    },
    {
      "cell_type": "code",
      "source": [
        "bwfp = [0, abs(bwfp1-bwnfp1), abs(bwfp1 - cont1), abs(bwfp1 - hl1), abs(bwfp1 - tw1), abs(bwfp1 - vwfp1)]\n",
        "bwnfp = [abs(bwfp1-bwnfp1), 0, abs(cont1-bwnfp1), abs(hl1-bwnfp1), abs(tw1-bwnfp1), abs(vwfp1-bwnfp1)]\n",
        "cont = [abs(bwfp1 - cont1), abs(cont1-bwnfp1), 0, abs(cont1-hl1), abs(cont1-tw1), abs(cont1-vwfp1)]\n",
        "hl = [abs(bwfp1 - hl1), abs(hl1-bwnfp1), abs(cont1-hl1), 0, abs(hl1-tw1), abs(hl1-vwfp1)]\n",
        "tw = [abs(bwfp1 - tw1), abs(tw1-bwnfp1), abs(cont1-tw1), abs(hl1-tw1), 0, abs(tw1-vwfp1)]\n",
        "vwfp = [abs(bwfp1 - vwfp1), abs(vwfp1-bwnfp1), abs(cont1-vwfp1), abs(hl1-vwfp1), abs(tw1-vwfp1), 0]\n",
        "d = {'buildingwindowsfloatprocessed': bwfp,\n",
        "     'buildingwindowsnonfloatprocessed': bwnfp,\n",
        "     'containers': cont,\n",
        "     'headlamps': hl,\n",
        "     'tableware': tw,\n",
        "     'vehiclewindowsfloatprocessed': vwfp}\n",
        "df_1 = pd.DataFrame(d)\n",
        "df_1.index = ['buildingwindowsfloatprocessed', 'buildingwindowsnonfloatprocessed', 'containers', 'headlamps',  'tableware', 'vehiclewindowsfloatprocessed']"
      ],
      "metadata": {
        "id": "1pZfXSoDi0jC"
      },
      "execution_count": null,
      "outputs": []
    },
    {
      "cell_type": "code",
      "source": [
        "df_1"
      ],
      "metadata": {
        "colab": {
          "base_uri": "https://localhost:8080/",
          "height": 238
        },
        "id": "9P8cqE-3FPdF",
        "outputId": "cbf05411-9801-4f97-cff0-b0dd664cb7bf"
      },
      "execution_count": null,
      "outputs": [
        {
          "output_type": "execute_result",
          "data": {
            "text/html": [
              "\n",
              "  <div id=\"df-2e993cf2-029e-419c-86b0-2d608724074f\">\n",
              "    <div class=\"colab-df-container\">\n",
              "      <div>\n",
              "<style scoped>\n",
              "    .dataframe tbody tr th:only-of-type {\n",
              "        vertical-align: middle;\n",
              "    }\n",
              "\n",
              "    .dataframe tbody tr th {\n",
              "        vertical-align: top;\n",
              "    }\n",
              "\n",
              "    .dataframe thead th {\n",
              "        text-align: right;\n",
              "    }\n",
              "</style>\n",
              "<table border=\"1\" class=\"dataframe\">\n",
              "  <thead>\n",
              "    <tr style=\"text-align: right;\">\n",
              "      <th></th>\n",
              "      <th>buildingwindowsfloatprocessed</th>\n",
              "      <th>buildingwindowsnonfloatprocessed</th>\n",
              "      <th>containers</th>\n",
              "      <th>headlamps</th>\n",
              "      <th>tableware</th>\n",
              "      <th>vehiclewindowsfloatprocessed</th>\n",
              "    </tr>\n",
              "  </thead>\n",
              "  <tbody>\n",
              "    <tr>\n",
              "      <th>buildingwindowsfloatprocessed</th>\n",
              "      <td>0.00</td>\n",
              "      <td>434.11</td>\n",
              "      <td>4142.58</td>\n",
              "      <td>2967.33</td>\n",
              "      <td>4424.48</td>\n",
              "      <td>3852.46</td>\n",
              "    </tr>\n",
              "    <tr>\n",
              "      <th>buildingwindowsnonfloatprocessed</th>\n",
              "      <td>434.11</td>\n",
              "      <td>0.00</td>\n",
              "      <td>4576.69</td>\n",
              "      <td>3401.44</td>\n",
              "      <td>4858.59</td>\n",
              "      <td>4286.57</td>\n",
              "    </tr>\n",
              "    <tr>\n",
              "      <th>containers</th>\n",
              "      <td>4142.58</td>\n",
              "      <td>4576.69</td>\n",
              "      <td>0.00</td>\n",
              "      <td>1175.25</td>\n",
              "      <td>281.90</td>\n",
              "      <td>290.12</td>\n",
              "    </tr>\n",
              "    <tr>\n",
              "      <th>headlamps</th>\n",
              "      <td>2967.33</td>\n",
              "      <td>3401.44</td>\n",
              "      <td>1175.25</td>\n",
              "      <td>0.00</td>\n",
              "      <td>1457.15</td>\n",
              "      <td>885.13</td>\n",
              "    </tr>\n",
              "    <tr>\n",
              "      <th>tableware</th>\n",
              "      <td>4424.48</td>\n",
              "      <td>4858.59</td>\n",
              "      <td>281.90</td>\n",
              "      <td>1457.15</td>\n",
              "      <td>0.00</td>\n",
              "      <td>572.02</td>\n",
              "    </tr>\n",
              "    <tr>\n",
              "      <th>vehiclewindowsfloatprocessed</th>\n",
              "      <td>3852.46</td>\n",
              "      <td>4286.57</td>\n",
              "      <td>290.12</td>\n",
              "      <td>885.13</td>\n",
              "      <td>572.02</td>\n",
              "      <td>0.00</td>\n",
              "    </tr>\n",
              "  </tbody>\n",
              "</table>\n",
              "</div>\n",
              "      <button class=\"colab-df-convert\" onclick=\"convertToInteractive('df-2e993cf2-029e-419c-86b0-2d608724074f')\"\n",
              "              title=\"Convert this dataframe to an interactive table.\"\n",
              "              style=\"display:none;\">\n",
              "        \n",
              "  <svg xmlns=\"http://www.w3.org/2000/svg\" height=\"24px\"viewBox=\"0 0 24 24\"\n",
              "       width=\"24px\">\n",
              "    <path d=\"M0 0h24v24H0V0z\" fill=\"none\"/>\n",
              "    <path d=\"M18.56 5.44l.94 2.06.94-2.06 2.06-.94-2.06-.94-.94-2.06-.94 2.06-2.06.94zm-11 1L8.5 8.5l.94-2.06 2.06-.94-2.06-.94L8.5 2.5l-.94 2.06-2.06.94zm10 10l.94 2.06.94-2.06 2.06-.94-2.06-.94-.94-2.06-.94 2.06-2.06.94z\"/><path d=\"M17.41 7.96l-1.37-1.37c-.4-.4-.92-.59-1.43-.59-.52 0-1.04.2-1.43.59L10.3 9.45l-7.72 7.72c-.78.78-.78 2.05 0 2.83L4 21.41c.39.39.9.59 1.41.59.51 0 1.02-.2 1.41-.59l7.78-7.78 2.81-2.81c.8-.78.8-2.07 0-2.86zM5.41 20L4 18.59l7.72-7.72 1.47 1.35L5.41 20z\"/>\n",
              "  </svg>\n",
              "      </button>\n",
              "      \n",
              "  <style>\n",
              "    .colab-df-container {\n",
              "      display:flex;\n",
              "      flex-wrap:wrap;\n",
              "      gap: 12px;\n",
              "    }\n",
              "\n",
              "    .colab-df-convert {\n",
              "      background-color: #E8F0FE;\n",
              "      border: none;\n",
              "      border-radius: 50%;\n",
              "      cursor: pointer;\n",
              "      display: none;\n",
              "      fill: #1967D2;\n",
              "      height: 32px;\n",
              "      padding: 0 0 0 0;\n",
              "      width: 32px;\n",
              "    }\n",
              "\n",
              "    .colab-df-convert:hover {\n",
              "      background-color: #E2EBFA;\n",
              "      box-shadow: 0px 1px 2px rgba(60, 64, 67, 0.3), 0px 1px 3px 1px rgba(60, 64, 67, 0.15);\n",
              "      fill: #174EA6;\n",
              "    }\n",
              "\n",
              "    [theme=dark] .colab-df-convert {\n",
              "      background-color: #3B4455;\n",
              "      fill: #D2E3FC;\n",
              "    }\n",
              "\n",
              "    [theme=dark] .colab-df-convert:hover {\n",
              "      background-color: #434B5C;\n",
              "      box-shadow: 0px 1px 3px 1px rgba(0, 0, 0, 0.15);\n",
              "      filter: drop-shadow(0px 1px 2px rgba(0, 0, 0, 0.3));\n",
              "      fill: #FFFFFF;\n",
              "    }\n",
              "  </style>\n",
              "\n",
              "      <script>\n",
              "        const buttonEl =\n",
              "          document.querySelector('#df-2e993cf2-029e-419c-86b0-2d608724074f button.colab-df-convert');\n",
              "        buttonEl.style.display =\n",
              "          google.colab.kernel.accessAllowed ? 'block' : 'none';\n",
              "\n",
              "        async function convertToInteractive(key) {\n",
              "          const element = document.querySelector('#df-2e993cf2-029e-419c-86b0-2d608724074f');\n",
              "          const dataTable =\n",
              "            await google.colab.kernel.invokeFunction('convertToInteractive',\n",
              "                                                     [key], {});\n",
              "          if (!dataTable) return;\n",
              "\n",
              "          const docLinkHtml = 'Like what you see? Visit the ' +\n",
              "            '<a target=\"_blank\" href=https://colab.research.google.com/notebooks/data_table.ipynb>data table notebook</a>'\n",
              "            + ' to learn more about interactive tables.';\n",
              "          element.innerHTML = '';\n",
              "          dataTable['output_type'] = 'display_data';\n",
              "          await google.colab.output.renderOutput(dataTable, element);\n",
              "          const docLink = document.createElement('div');\n",
              "          docLink.innerHTML = docLinkHtml;\n",
              "          element.appendChild(docLink);\n",
              "        }\n",
              "      </script>\n",
              "    </div>\n",
              "  </div>\n",
              "  "
            ],
            "text/plain": [
              "                                  buildingwindowsfloatprocessed  ...  vehiclewindowsfloatprocessed\n",
              "buildingwindowsfloatprocessed                              0.00  ...                       3852.46\n",
              "buildingwindowsnonfloatprocessed                         434.11  ...                       4286.57\n",
              "containers                                              4142.58  ...                        290.12\n",
              "headlamps                                               2967.33  ...                        885.13\n",
              "tableware                                               4424.48  ...                        572.02\n",
              "vehiclewindowsfloatprocessed                            3852.46  ...                          0.00\n",
              "\n",
              "[6 rows x 6 columns]"
            ]
          },
          "metadata": {},
          "execution_count": 240
        }
      ]
    },
    {
      "cell_type": "markdown",
      "source": [
        "# **4. Как часто Барий(Ba) используется(>0) вместе с Магнием(Mg)(>0)?**"
      ],
      "metadata": {
        "id": "l0yGPmxii0y0"
      }
    },
    {
      "cell_type": "code",
      "source": [
        "count = 0\n",
        "for i in range(0, len(df)):\n",
        "  if df.Ba[i] and df.Mg[i] > 0:\n",
        "    count += 1\n",
        "count"
      ],
      "metadata": {
        "id": "Fpu7L3D4i1Hk",
        "colab": {
          "base_uri": "https://localhost:8080/"
        },
        "outputId": "9a948a99-b08b-4b8a-be81-c158a9509bf8"
      },
      "execution_count": null,
      "outputs": [
        {
          "output_type": "execute_result",
          "data": {
            "text/plain": [
              "15"
            ]
          },
          "metadata": {},
          "execution_count": 241
        }
      ]
    },
    {
      "cell_type": "markdown",
      "source": [
        "# **5. Правда ли, что в стекле, которое используют для посуды(tableware), в среднем меньше кальция(Ca), чем в стекле для окон(Тип начинается с building window)?**"
      ],
      "metadata": {
        "id": "J5rInwISi1Tf"
      }
    },
    {
      "cell_type": "code",
      "source": [
        "tw, bw = 0, 0\n",
        "tw1, bw1 = 0, 0\n",
        "for i in range(0, len(df)):\n",
        "  if df.Type[i] == 'buildingwindowsfloatprocessed' or 'buildingwindowsnonfloatprocessed':\n",
        "    bw += df.Ca[i]\n",
        "    bw1 += 1\n",
        "  if df.Type[i] == 'tableware':\n",
        "    tw += df.Ca[i]\n",
        "    tw1 += 1\n",
        "if bw/bw1 > tw/tw1:\n",
        "  print('Да, в среднем кальция меньше в стекле для посуды')\n",
        "else:\n",
        "  print('Нет, в среднем кальция больше в стекле для посуды')"
      ],
      "metadata": {
        "id": "k_Vt-41yi1nR",
        "colab": {
          "base_uri": "https://localhost:8080/"
        },
        "outputId": "20418df1-f0f2-42d6-f9cc-67c4a0190c15"
      },
      "execution_count": null,
      "outputs": [
        {
          "output_type": "stream",
          "name": "stdout",
          "text": [
            "Нет, в среднем кальция больше в стекле для посуды\n"
          ]
        }
      ]
    },
    {
      "cell_type": "markdown",
      "source": [
        "# **6. Ri - Refractive index - коэффициент преломления. Расположите другие химические параметры по убыванию корреляции с Ri. Попробуйте корреляции Пирсона и Спирмена.**"
      ],
      "metadata": {
        "id": "pBhTzkcNi112"
      }
    },
    {
      "cell_type": "code",
      "source": [
        "from scipy import stats"
      ],
      "metadata": {
        "id": "aL08TWCmjLyu"
      },
      "execution_count": null,
      "outputs": []
    },
    {
      "cell_type": "code",
      "source": [
        "na = r = float(stats.spearmanr(df.RI, df.Na)[0])\n",
        "mg = r = float(stats.spearmanr(df.RI, df.Mg)[0])\n",
        "k = r = float(stats.spearmanr(df.RI, df.K)[0])\n",
        "si = r = float(stats.spearmanr(df.RI, df.Si)[0])\n",
        "al = r = float(stats.spearmanr(df.RI, df.Al)[0])\n",
        "ca = r = float(stats.spearmanr(df.RI, df.Ca)[0])\n",
        "ba = r = float(stats.spearmanr(df.RI, df.Ba)[0])\n",
        "fe = r = float(stats.spearmanr(df.RI, df.Fe)[0])\n",
        "a = [na, mg, k, si, al, ba, fe, ca]\n",
        "a.sort(reverse=True)"
      ],
      "metadata": {
        "id": "_gv5Y0-bf0Wc"
      },
      "execution_count": 262,
      "outputs": []
    },
    {
      "cell_type": "code",
      "source": [
        "a"
      ],
      "metadata": {
        "colab": {
          "base_uri": "https://localhost:8080/"
        },
        "id": "nSK068Fmgt0R",
        "outputId": "b697c41a-84a6-44c2-8337-ba93faf163bb"
      },
      "execution_count": 264,
      "outputs": [
        {
          "output_type": "execute_result",
          "data": {
            "text/plain": [
              "[0.7037772900856513,\n",
              " 0.1441558576473802,\n",
              " 0.09618105232126861,\n",
              " 0.031039673411322587,\n",
              " -0.18151106032822187,\n",
              " -0.28800126220173705,\n",
              " -0.4918214588177193,\n",
              " -0.525732890324931]"
            ]
          },
          "metadata": {},
          "execution_count": 264
        }
      ]
    },
    {
      "cell_type": "markdown",
      "source": [
        "# **7. Сколько образцов одновременно имеют Ri и Na больше медианной?**"
      ],
      "metadata": {
        "id": "C2h-VWAhjMLL"
      }
    },
    {
      "cell_type": "code",
      "source": [
        "count = 0\n",
        "for i in range(0, len(df)):\n",
        "  if df.RI[i] > df.RI.median() and df.Na[i] > df.Na.median():\n",
        "    count += 1\n",
        "count"
      ],
      "metadata": {
        "id": "8RJSYEePjMjL",
        "colab": {
          "base_uri": "https://localhost:8080/"
        },
        "outputId": "c156c65b-89dc-4ce1-95c1-a1f458e0b964"
      },
      "execution_count": null,
      "outputs": [
        {
          "output_type": "execute_result",
          "data": {
            "text/plain": [
              "61"
            ]
          },
          "metadata": {},
          "execution_count": 161
        }
      ]
    },
    {
      "cell_type": "markdown",
      "source": [
        "# **8. Разделите типы стекол windows по подтипам, каждый отдельный подтип вынесите в отдельную колонку в виде индикатора. Например, если в столбце Type есть building, то добавить столбец building и для таких значений поставить 1, в иных случаях - 0.**"
      ],
      "metadata": {
        "id": "G7hWQKESjMtx"
      }
    },
    {
      "cell_type": "code",
      "source": [
        "df['Type'] = df['Type'].map({'buildingwindowsfloatprocessed':1,\n",
        "                             'buildingwindowsnonfloatprocessed':1,\n",
        "                             'containers':2,\n",
        "                             'headlamps':3,\n",
        "                             'tableware':4,\n",
        "                             'vehiclewindowsfloatprocessed':5})\n",
        "\n",
        "\n",
        "# Не совсем понятно, как здесь использовать cat.codes(), поэтому я расставляю метки с помощью функции map"
      ],
      "metadata": {
        "id": "94FAz6v-jNCq"
      },
      "execution_count": null,
      "outputs": []
    },
    {
      "cell_type": "markdown",
      "source": [
        "# **9. Применив метод ближайшего соседа построить классификаторы типов стекла, в котором признаки - химические признаки, а предсказываемая переменная - типы стекол по стобцам из вопроса №8.**"
      ],
      "metadata": {
        "id": "_2hpfi50jNTi"
      }
    },
    {
      "cell_type": "code",
      "source": [
        "from sklearn.neighbors import KNeighborsClassifier\n",
        "from sklearn.model_selection import train_test_split\n",
        "from sklearn.metrics import accuracy_score\n",
        "X_train, X_test, y_train, y_test = train_test_split(df.drop('Type', axis=1), df.Type, test_size = 0.27, random_state=332)"
      ],
      "metadata": {
        "id": "7cVZyewbjXbU"
      },
      "execution_count": null,
      "outputs": []
    },
    {
      "cell_type": "code",
      "source": [
        "knn = KNeighborsClassifier()"
      ],
      "metadata": {
        "id": "rC44NPsSPwHw"
      },
      "execution_count": null,
      "outputs": []
    },
    {
      "cell_type": "code",
      "source": [
        "knn.fit(X_train, y_train)\n",
        "p = knn.predict(X_test)\n",
        "accuracy_score(p, y_test)"
      ],
      "metadata": {
        "colab": {
          "base_uri": "https://localhost:8080/"
        },
        "id": "uXwTkZAQP3a0",
        "outputId": "ad021498-7971-4c21-b726-7e6fa125d762"
      },
      "execution_count": null,
      "outputs": [
        {
          "output_type": "execute_result",
          "data": {
            "text/plain": [
              "0.8620689655172413"
            ]
          },
          "metadata": {},
          "execution_count": 165
        }
      ]
    },
    {
      "cell_type": "code",
      "source": [
        "p"
      ],
      "metadata": {
        "colab": {
          "base_uri": "https://localhost:8080/"
        },
        "id": "qcSB0gmnSJQj",
        "outputId": "a466a09f-efc0-40b7-a8e8-34b7af14aaf1"
      },
      "execution_count": null,
      "outputs": [
        {
          "output_type": "execute_result",
          "data": {
            "text/plain": [
              "array([1, 3, 1, 1, 3, 1, 1, 2, 1, 1, 1, 1, 1, 1, 1, 1, 1, 1, 1, 1, 3, 3,\n",
              "       1, 1, 3, 1, 1, 1, 1, 1, 2, 1, 1, 1, 1, 3, 1, 5, 1, 1, 1, 1, 2, 3,\n",
              "       1, 3, 2, 1, 1, 1, 1, 1, 1, 1, 1, 3, 3, 1])"
            ]
          },
          "metadata": {},
          "execution_count": 166
        }
      ]
    }
  ]
}